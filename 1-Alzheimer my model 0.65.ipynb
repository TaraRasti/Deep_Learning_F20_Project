{
 "cells": [
  {
   "cell_type": "code",
   "execution_count": 1,
   "metadata": {
    "id": "YkEM4cvJqfz2"
   },
   "outputs": [],
   "source": [
    "import warnings\n",
    "warnings.simplefilter(action='ignore', category=FutureWarning)\n",
    "import os, math, random, time\n",
    "import numpy as np\n",
    "import matplotlib.pyplot as plt\n",
    "from matplotlib.pyplot import imshow\n",
    "from PIL import Image\n",
    "import torch.nn as nn\n",
    "import torch\n",
    "import torchvision\n",
    "import torch.nn.functional as F\n",
    "import torchvision.transforms as transforms\n",
    "import torch.optim as optim\n",
    "from collections import defaultdict"
   ]
  },
  {
   "cell_type": "code",
   "execution_count": 2,
   "metadata": {
    "id": "beounM9Bqgdw"
   },
   "outputs": [],
   "source": [
    "def timer_start():\n",
    "    global t0\n",
    "    t0 = time.time()\n",
    "    \n",
    "def timer_end():   \n",
    "    print('Time elapsed {:0.1f}s'.format(time.time() - t0))  \n",
    "\n",
    "def display_grid(data, path, w =10, h =10, columns = 4, rows = 5):\n",
    "    fig=plt.figure(figsize=(12, 8))\n",
    "    for i in range(1, columns*rows +1):\n",
    "        file = data[i]\n",
    "        file = os.path.join(path, file)\n",
    "        img = Image.open(file)\n",
    "        fig.add_subplot(rows, columns, i)\n",
    "        imshow(img)\n",
    "    plt.show()\n",
    "    \n",
    "def get_best_epcoh(history):\n",
    "    valid_acc = history['val_acc']\n",
    "    best_epoch = valid_acc.index(max(valid_acc)) +1\n",
    "    best_acc =  max(valid_acc)\n",
    "    print('Best Validation Accuracy Score {:0.5f}, is for epoch {}'.format( best_acc, best_epoch))\n",
    "    return best_epoch\n",
    "\n",
    "def plot_results(history):\n",
    "    tr_acc = history['tr_acc']\n",
    "    val_acc = history['val_acc']\n",
    "    tr_loss = history['tr_loss']\n",
    "    val_loss = history['val_loss']\n",
    "    epochs = history['epoch']\n",
    "\n",
    "    plt.figure(figsize = (24, 6))\n",
    "    plt.subplot(1,2,1)\n",
    "    plt.plot(epochs, tr_acc, 'b', label = 'Training Accuracy')\n",
    "    plt.plot(epochs, val_acc, 'r', label = 'Validation Accuracy')\n",
    "    plt.grid(True)\n",
    "    plt.legend()\n",
    "    plt.xlabel('Epoch')  \n",
    "    \n",
    "    plt.subplot(1,2,2)\n",
    "    plt.plot(epochs, tr_loss, 'b', label = 'Training Loss')\n",
    "    plt.plot(epochs, val_loss, 'r', label = 'Validation Loss')\n",
    "    plt.grid(True)\n",
    "    plt.legend()\n",
    "    plt.xlabel('Epoch')\n",
    "    plt.show()\n",
    "    \n",
    "def set_seed(seed):\n",
    "    torch.backends.cudnn.deterministic = True\n",
    "    torch.backends.cudnn.benchmark = False\n",
    "    torch.manual_seed(seed)\n",
    "    torch.cuda.manual_seed_all(seed)\n",
    "    np.random.seed(seed)\n",
    "    random.seed(seed)"
   ]
  },
  {
   "cell_type": "code",
   "execution_count": 3,
   "metadata": {
    "colab": {
     "base_uri": "https://localhost:8080/"
    },
    "id": "Sv1KXQuFqggL",
    "outputId": "41e417b0-9e31-4f8b-ed4a-01c8fe5d1a84"
   },
   "outputs": [
    {
     "name": "stdout",
     "output_type": "stream",
     "text": [
      "Instances for Class Alzheimer: Train 4, Validation 4\n"
     ]
    }
   ],
   "source": [
    "base_dir = '/content/drive/MyDrive/Alzheimer/'\n",
    "train = os.listdir(os.path.join(base_dir, 'train (2)') )\n",
    "val  = os.listdir(os.path.join(base_dir, 'test (1)') )\n",
    "print('Instances for Class Alzheimer: Train {}, Validation {}'.format(len(train), len(val)))"
   ]
  },
  {
   "cell_type": "code",
   "execution_count": 4,
   "metadata": {
    "id": "G4ITFOZqqltE"
   },
   "outputs": [],
   "source": [
    "train_dir = os.path.join(base_dir, 'train (2)')\n",
    "validation_dir = os.path.join(base_dir, 'test (1)' )"
   ]
  },
  {
   "cell_type": "code",
   "execution_count": 5,
   "metadata": {
    "id": "lFtbCsj0qlwO"
   },
   "outputs": [],
   "source": [
    "BATCH_SIZE = 32\n",
    "transform = transforms.Compose( [                                  \n",
    "                                 transforms.Resize((150,150)),\n",
    "                                 transforms.RandomRotation(10),\n",
    "                                 transforms.RandomHorizontalFlip(), \n",
    "                                 transforms.ToTensor(),\n",
    "                                  ])\n",
    "\n",
    "trainset = torchvision.datasets.ImageFolder(root= train_dir, transform=transform)\n",
    "trainloader = torch.utils.data.DataLoader(trainset, batch_size= BATCH_SIZE, shuffle=True, num_workers=4)\n",
    "\n",
    "validset = torchvision.datasets.ImageFolder(root= validation_dir, transform=transform)\n",
    "validloader = torch.utils.data.DataLoader(validset, batch_size= BATCH_SIZE, shuffle=True, num_workers=4)"
   ]
  },
  {
   "cell_type": "code",
   "execution_count": 6,
   "metadata": {
    "id": "xcAGGDBPqlzX"
   },
   "outputs": [],
   "source": [
    "class Net(nn.Module):\n",
    "    def __init__(self):\n",
    "        super().__init__()\n",
    "        self.conv1 = nn.Conv2d(3, 16, 3)\n",
    "        self.conv2 = nn.Conv2d(16, 32, 3)\n",
    "        self.conv3 = nn.Conv2d(32, 64, 3)\n",
    "        self.conv4 = nn.Conv2d(64, 128, 3)\n",
    "        self.conv5 = nn.Conv2d(128, 128, 3)\n",
    "        self.pool = nn.MaxPool2d(2)\n",
    "        self.flat = nn.Flatten()\n",
    "        self.fc1 = nn.Linear(21632, 1024)\n",
    "        self.fc2 = nn.Linear(1024, 128)\n",
    "        self.fc3 = nn.Linear(128, 4)\n",
    "        \n",
    "\n",
    "    def forward(self, x):\n",
    "        x = self.pool(F.relu(self.conv1(x)))\n",
    "        x = self.pool(F.relu(self.conv2(x)))\n",
    "        x = self.pool(F.relu(self.conv3(x)))\n",
    "        x = F.relu(self.conv4(x))\n",
    "        x = F.relu(self.conv5(x))\n",
    "        x = self.flat(x)\n",
    "        x = F.leaky_relu(self.fc1(x))\n",
    "        x = nn.Dropout(p=0.3)(x)\n",
    "        x = F.leaky_relu(self.fc2(x))\n",
    "        x = torch.softmax(self.fc3(x),dim=1)\n",
    "        return x"
   ]
  },
  {
   "cell_type": "code",
   "execution_count": 7,
   "metadata": {
    "id": "B0T1g638qgiV"
   },
   "outputs": [],
   "source": [
    "def train(model, epoch, train_loader, optimizer, criterion) :   \n",
    "    model.train()\n",
    "    epoch_loss = correct = 0\n",
    "    for i, data in enumerate(train_loader, 0):\n",
    "        inputs, labels = data[0].to(device), data[1].to(device)    \n",
    "        optimizer.zero_grad()\n",
    "        outputs = model(inputs)\n",
    "        loss =  criterion(outputs, labels)\n",
    "        _, predicted = torch.max(outputs.data, 1)           \n",
    "        correct += (predicted == labels).sum().item()  \n",
    "        loss.backward()\n",
    "        optimizer.step() \n",
    "        epoch_loss += outputs.shape[0] * loss.item()\n",
    "    accuracy = correct / len(train_loader.dataset)\n",
    "    epoch_loss = epoch_loss / len(train_loader.dataset)\n",
    "    return epoch_loss, accuracy\n",
    "\n",
    "\n",
    "def test(model, epoch, test_loader, optimizer, criterion):\n",
    "    model.eval()\n",
    "    epoch_loss = correct = 0\n",
    "    with torch.no_grad():\n",
    "        for i, data in enumerate(test_loader, 0):\n",
    "            images, labels = data[0].to(device), data[1].to(device)\n",
    "            outputs = model(images)\n",
    "            loss =    criterion(outputs, labels)\n",
    "            _, predicted = torch.max(outputs.data, 1)           \n",
    "            correct += (predicted == labels).sum().item()  \n",
    "            epoch_loss += outputs.shape[0] * loss.item()\n",
    "    accuracy = correct / len(test_loader.dataset)\n",
    "    epoch_loss = epoch_loss / len(test_loader.dataset)\n",
    "    return epoch_loss, accuracy"
   ]
  },
  {
   "cell_type": "code",
   "execution_count": 8,
   "metadata": {
    "colab": {
     "base_uri": "https://localhost:8080/"
    },
    "id": "ZtweJfafqgkv",
    "outputId": "4287deec-5706-449d-f905-02a87b700ca0"
   },
   "outputs": [
    {
     "name": "stdout",
     "output_type": "stream",
     "text": [
      "Divice:  cuda:0\n"
     ]
    },
    {
     "data": {
      "text/plain": [
       "Net(\n",
       "  (conv1): Conv2d(3, 16, kernel_size=(3, 3), stride=(1, 1))\n",
       "  (conv3): Conv2d(16, 32, kernel_size=(3, 3), stride=(1, 1))\n",
       "  (conv5): Conv2d(32, 64, kernel_size=(3, 3), stride=(1, 1))\n",
       "  (conv7): Conv2d(64, 128, kernel_size=(3, 3), stride=(1, 1))\n",
       "  (conv8): Conv2d(128, 128, kernel_size=(3, 3), stride=(1, 1))\n",
       "  (pool): MaxPool2d(kernel_size=2, stride=2, padding=0, dilation=1, ceil_mode=False)\n",
       "  (flat): Flatten(start_dim=1, end_dim=-1)\n",
       "  (fc1): Linear(in_features=21632, out_features=1024, bias=True)\n",
       "  (fc2): Linear(in_features=1024, out_features=128, bias=True)\n",
       "  (fc3): Linear(in_features=128, out_features=4, bias=True)\n",
       ")"
      ]
     },
     "execution_count": 8,
     "metadata": {
      "tags": []
     },
     "output_type": "execute_result"
    }
   ],
   "source": [
    "device = torch.device(\"cuda:0\" if torch.cuda.is_available() else \"cpu\")\n",
    "model = Net()\n",
    "model.to(device)\n",
    "\n",
    "criterion = nn.CrossEntropyLoss()\n",
    "optimizer = optim.Adam(model.parameters(), lr=1e-4, weight_decay=1e-5)\n",
    "print('Divice: ',device)\n",
    "model"
   ]
  },
  {
   "cell_type": "code",
   "execution_count": 9,
   "metadata": {
    "colab": {
     "base_uri": "https://localhost:8080/"
    },
    "id": "v9QJmDEJqgm4",
    "outputId": "c011e72b-cde1-45ad-e469-d186e1f1ca59"
   },
   "outputs": [
    {
     "name": "stdout",
     "output_type": "stream",
     "text": [
      "Number of Training samples 5121, Batch Size 32, Num Batch 161\n",
      "[Epoch 1 of 100] Time elapsed 732.8s\n",
      "tr_loss: 1.2413,tr_acc 0.4960| val_loss 1.2524, val_acc 0.3518\n",
      "[Epoch 2 of 100] Time elapsed 12.2s\n",
      "tr_loss: 1.2216,tr_acc 0.4929| val_loss 1.1972, val_acc 0.5184\n",
      "[Epoch 3 of 100] Time elapsed 12.3s\n",
      "tr_loss: 1.1886,tr_acc 0.5331| val_loss 1.2031, val_acc 0.5254\n",
      "[Epoch 4 of 100] Time elapsed 12.3s\n",
      "tr_loss: 1.1750,tr_acc 0.5475| val_loss 1.2091, val_acc 0.5238\n",
      "[Epoch 5 of 100] Time elapsed 12.3s\n",
      "tr_loss: 1.1717,tr_acc 0.5472| val_loss 1.1905, val_acc 0.5168\n",
      "[Epoch 6 of 100] Time elapsed 12.3s\n",
      "tr_loss: 1.1676,tr_acc 0.5563| val_loss 1.1877, val_acc 0.5215\n",
      "[Epoch 7 of 100] Time elapsed 12.5s\n",
      "tr_loss: 1.1625,tr_acc 0.5614| val_loss 1.1899, val_acc 0.5207\n",
      "[Epoch 8 of 100] Time elapsed 12.5s\n",
      "tr_loss: 1.1588,tr_acc 0.5641| val_loss 1.1796, val_acc 0.5450\n",
      "[Epoch 9 of 100] Time elapsed 12.4s\n",
      "tr_loss: 1.1566,tr_acc 0.5667| val_loss 1.1724, val_acc 0.5504\n",
      "[Epoch 10 of 100] Time elapsed 12.5s\n",
      "tr_loss: 1.1625,tr_acc 0.5579| val_loss 1.1868, val_acc 0.5364\n",
      "[Epoch 11 of 100] Time elapsed 12.4s\n",
      "tr_loss: 1.1504,tr_acc 0.5743| val_loss 1.2027, val_acc 0.5176\n",
      "[Epoch 12 of 100] Time elapsed 12.5s\n",
      "tr_loss: 1.1484,tr_acc 0.5786| val_loss 1.1767, val_acc 0.5418\n",
      "[Epoch 13 of 100] Time elapsed 12.5s\n",
      "tr_loss: 1.1470,tr_acc 0.5778| val_loss 1.1716, val_acc 0.5481\n",
      "[Epoch 14 of 100] Time elapsed 12.4s\n",
      "tr_loss: 1.1438,tr_acc 0.5819| val_loss 1.2126, val_acc 0.5176\n",
      "[Epoch 15 of 100] Time elapsed 12.6s\n",
      "tr_loss: 1.1394,tr_acc 0.5854| val_loss 1.1766, val_acc 0.5442\n",
      "[Epoch 16 of 100] Time elapsed 12.6s\n",
      "tr_loss: 1.1303,tr_acc 0.6018| val_loss 1.2028, val_acc 0.5238\n",
      "[Epoch 17 of 100] Time elapsed 12.5s\n",
      "tr_loss: 1.1274,tr_acc 0.6018| val_loss 1.1791, val_acc 0.5496\n",
      "[Epoch 18 of 100] Time elapsed 12.4s\n",
      "tr_loss: 1.1213,tr_acc 0.6093| val_loss 1.1884, val_acc 0.5418\n",
      "[Epoch 19 of 100] Time elapsed 12.5s\n",
      "tr_loss: 1.1209,tr_acc 0.6114| val_loss 1.1821, val_acc 0.5356\n",
      "[Epoch 20 of 100] Time elapsed 12.5s\n",
      "tr_loss: 1.1119,tr_acc 0.6219| val_loss 1.1758, val_acc 0.5520\n",
      "[Epoch 21 of 100] Time elapsed 12.6s\n",
      "tr_loss: 1.1054,tr_acc 0.6305| val_loss 1.1726, val_acc 0.5465\n",
      "[Epoch 22 of 100] Time elapsed 12.7s\n",
      "tr_loss: 1.1056,tr_acc 0.6262| val_loss 1.1862, val_acc 0.5371\n",
      "[Epoch 23 of 100] Time elapsed 12.7s\n",
      "tr_loss: 1.1049,tr_acc 0.6325| val_loss 1.1702, val_acc 0.5622\n",
      "[Epoch 24 of 100] Time elapsed 12.7s\n",
      "tr_loss: 1.1001,tr_acc 0.6389| val_loss 1.1722, val_acc 0.5536\n",
      "[Epoch 25 of 100] Time elapsed 12.5s\n",
      "tr_loss: 1.0889,tr_acc 0.6471| val_loss 1.1899, val_acc 0.5332\n",
      "[Epoch 26 of 100] Time elapsed 12.8s\n",
      "tr_loss: 1.0848,tr_acc 0.6518| val_loss 1.1844, val_acc 0.5403\n",
      "[Epoch 27 of 100] Time elapsed 12.6s\n",
      "tr_loss: 1.0904,tr_acc 0.6442| val_loss 1.1682, val_acc 0.5606\n",
      "[Epoch 28 of 100] Time elapsed 12.6s\n",
      "tr_loss: 1.0863,tr_acc 0.6507| val_loss 1.1852, val_acc 0.5395\n",
      "[Epoch 29 of 100] Time elapsed 12.9s\n",
      "tr_loss: 1.0711,tr_acc 0.6667| val_loss 1.1707, val_acc 0.5567\n",
      "[Epoch 30 of 100] Time elapsed 12.7s\n",
      "tr_loss: 1.0736,tr_acc 0.6659| val_loss 1.1819, val_acc 0.5496\n",
      "[Epoch 31 of 100] Time elapsed 12.8s\n",
      "tr_loss: 1.0747,tr_acc 0.6592| val_loss 1.1843, val_acc 0.5496\n",
      "[Epoch 32 of 100] Time elapsed 12.5s\n",
      "tr_loss: 1.0618,tr_acc 0.6786| val_loss 1.1941, val_acc 0.5348\n",
      "[Epoch 33 of 100] Time elapsed 12.8s\n",
      "tr_loss: 1.0740,tr_acc 0.6673| val_loss 1.1836, val_acc 0.5426\n",
      "[Epoch 34 of 100] Time elapsed 12.7s\n",
      "tr_loss: 1.0560,tr_acc 0.6833| val_loss 1.1893, val_acc 0.5356\n",
      "[Epoch 35 of 100] Time elapsed 12.8s\n",
      "tr_loss: 1.0575,tr_acc 0.6803| val_loss 1.1839, val_acc 0.5442\n",
      "[Epoch 36 of 100] Time elapsed 12.7s\n",
      "tr_loss: 1.0648,tr_acc 0.6756| val_loss 1.1832, val_acc 0.5418\n",
      "[Epoch 37 of 100] Time elapsed 12.6s\n",
      "tr_loss: 1.0435,tr_acc 0.6948| val_loss 1.1739, val_acc 0.5528\n",
      "[Epoch 38 of 100] Time elapsed 12.7s\n",
      "tr_loss: 1.0431,tr_acc 0.6969| val_loss 1.1781, val_acc 0.5543\n",
      "[Epoch 39 of 100] Time elapsed 12.6s\n",
      "tr_loss: 1.0358,tr_acc 0.7014| val_loss 1.1668, val_acc 0.5637\n",
      "[Epoch 40 of 100] Time elapsed 12.7s\n",
      "tr_loss: 1.0276,tr_acc 0.7139| val_loss 1.1745, val_acc 0.5606\n",
      "[Epoch 41 of 100] Time elapsed 12.7s\n",
      "tr_loss: 1.0326,tr_acc 0.7071| val_loss 1.1879, val_acc 0.5418\n",
      "[Epoch 42 of 100] Time elapsed 12.8s\n",
      "tr_loss: 1.0328,tr_acc 0.7077| val_loss 1.1753, val_acc 0.5543\n",
      "[Epoch 43 of 100] Time elapsed 12.7s\n",
      "tr_loss: 1.0491,tr_acc 0.6883| val_loss 1.1823, val_acc 0.5496\n",
      "[Epoch 44 of 100] Time elapsed 12.7s\n",
      "tr_loss: 1.0267,tr_acc 0.7135| val_loss 1.1843, val_acc 0.5450\n",
      "[Epoch 45 of 100] Time elapsed 12.9s\n",
      "tr_loss: 1.0267,tr_acc 0.7118| val_loss 1.1797, val_acc 0.5489\n",
      "[Epoch 46 of 100] Time elapsed 12.8s\n",
      "tr_loss: 1.0175,tr_acc 0.7237| val_loss 1.1804, val_acc 0.5465\n",
      "[Epoch 47 of 100] Time elapsed 12.8s\n",
      "tr_loss: 1.0209,tr_acc 0.7192| val_loss 1.1520, val_acc 0.5825\n",
      "[Epoch 48 of 100] Time elapsed 12.7s\n",
      "tr_loss: 1.0120,tr_acc 0.7286| val_loss 1.1906, val_acc 0.5403\n",
      "[Epoch 49 of 100] Time elapsed 12.6s\n",
      "tr_loss: 1.0137,tr_acc 0.7249| val_loss 1.1524, val_acc 0.5731\n",
      "[Epoch 50 of 100] Time elapsed 12.7s\n",
      "tr_loss: 1.0029,tr_acc 0.7374| val_loss 1.1650, val_acc 0.5700\n",
      "[Epoch 51 of 100] Time elapsed 12.6s\n",
      "tr_loss: 1.0079,tr_acc 0.7342| val_loss 1.1594, val_acc 0.5723\n",
      "[Epoch 52 of 100] Time elapsed 12.7s\n",
      "tr_loss: 0.9962,tr_acc 0.7471| val_loss 1.1375, val_acc 0.5958\n",
      "[Epoch 53 of 100] Time elapsed 12.6s\n",
      "tr_loss: 0.9918,tr_acc 0.7493| val_loss 1.1576, val_acc 0.5778\n",
      "[Epoch 54 of 100] Time elapsed 12.7s\n",
      "tr_loss: 0.9869,tr_acc 0.7577| val_loss 1.1513, val_acc 0.5833\n",
      "[Epoch 55 of 100] Time elapsed 12.7s\n",
      "tr_loss: 0.9878,tr_acc 0.7528| val_loss 1.1435, val_acc 0.5872\n",
      "[Epoch 56 of 100] Time elapsed 12.6s\n",
      "tr_loss: 0.9808,tr_acc 0.7598| val_loss 1.1516, val_acc 0.5880\n",
      "[Epoch 57 of 100] Time elapsed 12.7s\n",
      "tr_loss: 0.9820,tr_acc 0.7577| val_loss 1.1518, val_acc 0.5833\n",
      "[Epoch 58 of 100] Time elapsed 12.5s\n",
      "tr_loss: 0.9694,tr_acc 0.7727| val_loss 1.1550, val_acc 0.5801\n",
      "[Epoch 59 of 100] Time elapsed 12.7s\n",
      "tr_loss: 0.9677,tr_acc 0.7747| val_loss 1.1563, val_acc 0.5778\n",
      "[Epoch 60 of 100] Time elapsed 12.6s\n",
      "tr_loss: 1.0048,tr_acc 0.7374| val_loss 1.1389, val_acc 0.5989\n",
      "[Epoch 61 of 100] Time elapsed 12.7s\n",
      "tr_loss: 0.9667,tr_acc 0.7750| val_loss 1.1612, val_acc 0.5715\n",
      "[Epoch 62 of 100] Time elapsed 12.7s\n",
      "tr_loss: 0.9659,tr_acc 0.7768| val_loss 1.1278, val_acc 0.6036\n",
      "[Epoch 63 of 100] Time elapsed 12.5s\n",
      "tr_loss: 0.9628,tr_acc 0.7793| val_loss 1.1554, val_acc 0.5754\n",
      "[Epoch 64 of 100] Time elapsed 12.6s\n",
      "tr_loss: 0.9563,tr_acc 0.7840| val_loss 1.1488, val_acc 0.5872\n",
      "[Epoch 65 of 100] Time elapsed 12.7s\n",
      "tr_loss: 0.9541,tr_acc 0.7872| val_loss 1.1248, val_acc 0.6122\n",
      "[Epoch 66 of 100] Time elapsed 12.7s\n",
      "tr_loss: 0.9553,tr_acc 0.7856| val_loss 1.1445, val_acc 0.5880\n",
      "[Epoch 67 of 100] Time elapsed 12.8s\n",
      "tr_loss: 0.9506,tr_acc 0.7942| val_loss 1.1438, val_acc 0.5911\n",
      "[Epoch 68 of 100] Time elapsed 12.6s\n",
      "tr_loss: 0.9414,tr_acc 0.8051| val_loss 1.1507, val_acc 0.5825\n",
      "[Epoch 69 of 100] Time elapsed 12.7s\n",
      "tr_loss: 0.9414,tr_acc 0.8020| val_loss 1.1739, val_acc 0.5622\n",
      "[Epoch 70 of 100] Time elapsed 12.6s\n",
      "tr_loss: 0.9399,tr_acc 0.8037| val_loss 1.1333, val_acc 0.6052\n",
      "[Epoch 71 of 100] Time elapsed 12.7s\n",
      "tr_loss: 0.9331,tr_acc 0.8104| val_loss 1.1470, val_acc 0.5848\n",
      "[Epoch 72 of 100] Time elapsed 12.6s\n",
      "tr_loss: 0.9361,tr_acc 0.8077| val_loss 1.1344, val_acc 0.5997\n",
      "[Epoch 73 of 100] Time elapsed 12.7s\n",
      "tr_loss: 0.9275,tr_acc 0.8180| val_loss 1.1168, val_acc 0.6208\n",
      "[Epoch 74 of 100] Time elapsed 12.7s\n",
      "tr_loss: 0.9226,tr_acc 0.8194| val_loss 1.1207, val_acc 0.6153\n",
      "[Epoch 75 of 100] Time elapsed 12.9s\n",
      "tr_loss: 0.9285,tr_acc 0.8172| val_loss 1.1086, val_acc 0.6286\n",
      "[Epoch 76 of 100] Time elapsed 12.8s\n",
      "tr_loss: 0.9172,tr_acc 0.8268| val_loss 1.0989, val_acc 0.6372\n",
      "[Epoch 77 of 100] Time elapsed 12.6s\n",
      "tr_loss: 0.9266,tr_acc 0.8166| val_loss 1.1078, val_acc 0.6286\n",
      "[Epoch 78 of 100] Time elapsed 12.8s\n",
      "tr_loss: 0.9155,tr_acc 0.8289| val_loss 1.1137, val_acc 0.6255\n",
      "[Epoch 79 of 100] Time elapsed 12.7s\n",
      "tr_loss: 0.9083,tr_acc 0.8348| val_loss 1.1168, val_acc 0.6216\n",
      "[Epoch 80 of 100] Time elapsed 12.7s\n",
      "tr_loss: 0.9162,tr_acc 0.8274| val_loss 1.1284, val_acc 0.6036\n",
      "[Epoch 81 of 100] Time elapsed 12.8s\n",
      "tr_loss: 0.9152,tr_acc 0.8285| val_loss 1.1250, val_acc 0.6091\n",
      "[Epoch 82 of 100] Time elapsed 12.6s\n",
      "tr_loss: 0.9034,tr_acc 0.8409| val_loss 1.1278, val_acc 0.6059\n",
      "[Epoch 83 of 100] Time elapsed 12.7s\n",
      "tr_loss: 0.8998,tr_acc 0.8459| val_loss 1.1366, val_acc 0.5950\n",
      "[Epoch 84 of 100] Time elapsed 12.6s\n",
      "tr_loss: 0.9095,tr_acc 0.8344| val_loss 1.1330, val_acc 0.6091\n",
      "[Epoch 85 of 100] Time elapsed 12.7s\n",
      "tr_loss: 0.9066,tr_acc 0.8375| val_loss 1.1225, val_acc 0.6099\n",
      "[Epoch 86 of 100] Time elapsed 12.7s\n",
      "tr_loss: 0.9000,tr_acc 0.8438| val_loss 1.1196, val_acc 0.6122\n",
      "[Epoch 87 of 100] Time elapsed 12.6s\n",
      "tr_loss: 0.9005,tr_acc 0.8434| val_loss 1.1369, val_acc 0.6020\n",
      "[Epoch 88 of 100] Time elapsed 12.7s\n",
      "tr_loss: 0.9007,tr_acc 0.8426| val_loss 1.1067, val_acc 0.6224\n",
      "[Epoch 89 of 100] Time elapsed 12.5s\n",
      "tr_loss: 0.8913,tr_acc 0.8524| val_loss 1.0990, val_acc 0.6341\n",
      "[Epoch 90 of 100] Time elapsed 12.6s\n",
      "tr_loss: 0.8898,tr_acc 0.8545| val_loss 1.1183, val_acc 0.6177\n",
      "[Epoch 91 of 100] Time elapsed 12.6s\n",
      "tr_loss: 0.8940,tr_acc 0.8512| val_loss 1.1259, val_acc 0.6130\n",
      "[Epoch 92 of 100] Time elapsed 12.7s\n",
      "tr_loss: 0.9134,tr_acc 0.8284| val_loss 1.1025, val_acc 0.6349\n",
      "[Epoch 93 of 100] Time elapsed 12.7s\n",
      "tr_loss: 0.8858,tr_acc 0.8602| val_loss 1.1219, val_acc 0.6099\n",
      "[Epoch 94 of 100] Time elapsed 12.7s\n",
      "tr_loss: 0.8903,tr_acc 0.8533| val_loss 1.1010, val_acc 0.6364\n",
      "[Epoch 95 of 100] Time elapsed 12.6s\n",
      "tr_loss: 0.8773,tr_acc 0.8676| val_loss 1.1186, val_acc 0.6200\n",
      "[Epoch 96 of 100] Time elapsed 12.7s\n",
      "tr_loss: 0.8733,tr_acc 0.8723| val_loss 1.1184, val_acc 0.6169\n",
      "[Epoch 97 of 100] Time elapsed 12.7s\n",
      "tr_loss: 0.8728,tr_acc 0.8740| val_loss 1.1172, val_acc 0.6130\n",
      "[Epoch 98 of 100] Time elapsed 12.8s\n",
      "tr_loss: 0.8747,tr_acc 0.8692| val_loss 1.0914, val_acc 0.6513\n",
      "[Epoch 99 of 100] Time elapsed 12.8s\n",
      "tr_loss: 0.8730,tr_acc 0.8711| val_loss 1.1020, val_acc 0.6357\n",
      "[Epoch 100 of 100] Time elapsed 12.9s\n",
      "tr_loss: 0.8826,tr_acc 0.8623| val_loss 1.1181, val_acc 0.6216\n",
      "CPU times: user 4min 24s, sys: 1min 49s, total: 6min 14s\n",
      "Wall time: 33min 4s\n"
     ]
    }
   ],
   "source": [
    "%%time\n",
    "EPOCHS = 100\n",
    "\n",
    "train_list  = os.listdir(os.path.join(base_dir, 'train (2)/MildDemented') ) + os.listdir(os.path.join(base_dir, 'train (2)/ModerateDemented') ) + os.listdir(os.path.join(base_dir, 'train (2)/NonDemented') ) + os.listdir(os.path.join(base_dir, 'train (2)/VeryMildDemented') )\n",
    "num_batches = math.ceil(len(train_list) / BATCH_SIZE)\n",
    "\n",
    "print('Number of Training samples {}, Batch Size {}, Num Batch {}'.format( len(train_list), BATCH_SIZE, num_batches ))\n",
    "\n",
    "history = defaultdict(list)\n",
    "\n",
    "for epoch in range( EPOCHS):  \n",
    "    timer_start()\n",
    "    print('[Epoch {} of {}]'.format(epoch +1, EPOCHS), end = ' ')\n",
    "    tr_loss, tr_acc = train(model, epoch, trainloader, optimizer, criterion)\n",
    "\n",
    "    val_loss, val_acc = test(model, epoch, validloader, optimizer, criterion)  \n",
    "    timer_end()\n",
    "    print('tr_loss: {:0.4f},tr_acc {:0.4f}| val_loss {:0.4f}, val_acc {:0.4f}'.format(tr_loss, tr_acc , val_loss, val_acc))\n",
    "    history['epoch'].append(epoch+1)\n",
    "    history['tr_loss'].append(round(tr_loss,5))\n",
    "    history['tr_acc'].append(round(tr_acc,5))\n",
    "    history['val_loss'].append(round(val_loss,5))\n",
    "    history['val_acc'].append(round(val_acc,5))"
   ]
  },
  {
   "cell_type": "code",
   "execution_count": 10,
   "metadata": {
    "colab": {
     "base_uri": "https://localhost:8080/",
     "height": 245
    },
    "id": "RAGOJobg2q0p",
    "outputId": "e08d43c0-5a7c-4acf-ace8-8cf420a39f95"
   },
   "outputs": [
    {
     "data": {
      "image/png": "[encoded data removed]",
      "text/plain": [
       "<Figure size 1728x432 with 2 Axes>"
      ]
     },
     "metadata": {
      "needs_background": "light",
      "tags": []
     },
     "output_type": "display_data"
    },
    {
     "name": "stdout",
     "output_type": "stream",
     "text": [
      "Best Validation Accuracy Score 0.65129, is for epoch 98\n"
     ]
    }
   ],
   "source": [
    "plot_results(history)\n",
    "best_epoch = get_best_epcoh(history)"
   ]
  }
 ],
 "metadata": {
  "accelerator": "GPU",
  "colab": {
   "collapsed_sections": [],
   "name": "Alzheimer 0.65 .ipynb",
   "provenance": []
  },
  "kernelspec": {
   "display_name": "Python 3",
   "language": "python",
   "name": "python3"
  },
  "language_info": {
   "codemirror_mode": {
    "name": "ipython",
    "version": 3
   },
   "file_extension": ".py",
   "mimetype": "text/x-python",
   "name": "python",
   "nbconvert_exporter": "python",
   "pygments_lexer": "ipython3",
   "version": "3.7.6"
  }
 },
 "nbformat": 4,
 "nbformat_minor": 1
}
