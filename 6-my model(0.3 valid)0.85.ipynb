{
  "nbformat": 4,
  "nbformat_minor": 0,
  "metadata": {
    "accelerator": "GPU",
    "colab": {
      "name": "Alzheimer_0.85.ipynb",
      "provenance": [],
      "collapsed_sections": []
    },
    "kernelspec": {
      "display_name": "Python 3",
      "language": "python",
      "name": "python3"
    },
    "language_info": {
      "codemirror_mode": {
        "name": "ipython",
        "version": 3
      },
      "file_extension": ".py",
      "mimetype": "text/x-python",
      "name": "python",
      "nbconvert_exporter": "python",
      "pygments_lexer": "ipython3",
      "version": "3.7.6"
    }
  },
  "cells": [
    {
      "cell_type": "code",
      "metadata": {
        "id": "YkEM4cvJqfz2"
      },
      "source": [
        "import os, math, random, time\n",
        "import numpy as np\n",
        "import matplotlib.pyplot as plt\n",
        "from matplotlib.pyplot import imshow\n",
        "from PIL import Image\n",
        "import torch.nn as nn\n",
        "import torch\n",
        "import torchvision\n",
        "import torch.nn.functional as F\n",
        "import torchvision.transforms as transforms\n",
        "import torch.optim as optim\n",
        "from collections import defaultdict\n",
        "from __future__ import print_function, division\n",
        "from torch.optim import lr_scheduler\n",
        "from torch.autograd import Variable\n",
        "from torchvision import datasets, models, transforms\n",
        "from torchvision.datasets import ImageFolder\n",
        "from torch.utils.data import Subset\n",
        "from sklearn.model_selection import train_test_split\n",
        "from torchvision.transforms import Compose, ToTensor, Resize\n",
        "from torch.utils.data import DataLoader"
      ],
      "execution_count": 1,
      "outputs": []
    },
    {
      "cell_type": "code",
      "metadata": {
        "colab": {
          "base_uri": "https://localhost:8080/"
        },
        "id": "aSkRxrRw-6Cv",
        "outputId": "487be6a6-0295-4aae-fea7-3292206c9fa7"
      },
      "source": [
        "from google.colab import drive\n",
        "drive.mount('/content/drive')"
      ],
      "execution_count": 2,
      "outputs": [
        {
          "output_type": "stream",
          "text": [
            "Mounted at /content/drive\n"
          ],
          "name": "stdout"
        }
      ]
    },
    {
      "cell_type": "code",
      "metadata": {
        "id": "beounM9Bqgdw"
      },
      "source": [
        "def timer_start():\n",
        "    global t0\n",
        "    t0 = time.time()\n",
        "    \n",
        "def timer_end():   \n",
        "    print('Time elapsed {:0.1f}s'.format(time.time() - t0))  \n",
        "\n",
        "def display_grid(data, path, w =10, h =10, columns = 4, rows = 5):\n",
        "    fig=plt.figure(figsize=(12, 8))\n",
        "    for i in range(1, columns*rows +1):\n",
        "        file = data[i]\n",
        "        file = os.path.join(path, file)\n",
        "        img = Image.open(file)\n",
        "        fig.add_subplot(rows, columns, i)\n",
        "        imshow(img)\n",
        "    plt.show()\n",
        "    \n",
        "def get_best_epcoh(history):\n",
        "    valid_acc = history['val_acc']\n",
        "    best_epoch = valid_acc.index(max(valid_acc)) +1\n",
        "    best_acc =  max(valid_acc)\n",
        "    print('Best Validation Accuracy Score {:0.5f}, is for epoch {}'.format( best_acc, best_epoch))\n",
        "    return best_epoch\n",
        "\n",
        "def plot_results(history):\n",
        "    tr_acc = history['tr_acc']\n",
        "    val_acc = history['val_acc']\n",
        "    tr_loss = history['tr_loss']\n",
        "    val_loss = history['val_loss']\n",
        "    epochs = history['epoch']\n",
        "\n",
        "    plt.figure(figsize = (24, 6))\n",
        "    plt.subplot(1,2,1)\n",
        "    plt.plot(epochs, tr_acc, 'b', label = 'Training Accuracy')\n",
        "    plt.plot(epochs, val_acc, 'r', label = 'Validation Accuracy')\n",
        "    plt.grid(True)\n",
        "    plt.legend()\n",
        "    plt.xlabel('Epoch')  \n",
        "    \n",
        "    plt.subplot(1,2,2)\n",
        "    plt.plot(epochs, tr_loss, 'b', label = 'Training Loss')\n",
        "    plt.plot(epochs, val_loss, 'r', label = 'Validation Loss')\n",
        "    plt.grid(True)\n",
        "    plt.legend()\n",
        "    plt.xlabel('Epoch')\n",
        "    plt.show()\n",
        "    \n",
        "def set_seed(seed):\n",
        "    torch.backends.cudnn.deterministic = True\n",
        "    torch.backends.cudnn.benchmark = False\n",
        "    torch.manual_seed(seed)\n",
        "    torch.cuda.manual_seed_all(seed)\n",
        "    np.random.seed(seed)\n",
        "    random.seed(seed)"
      ],
      "execution_count": 3,
      "outputs": []
    },
    {
      "cell_type": "markdown",
      "metadata": {
        "id": "80oNVg8QL7FB"
      },
      "source": [
        "What is Tensor?\n",
        "Tensors are the building blocks for data in PyTorch. Neural networks take tensors as input and produce tensors as outputs. In fact, all operations within a neural network and during optimization are operations between tensors, and all parameters (for example, weights and biases) in a neural network are tensors. \n"
      ]
    },
    {
      "cell_type": "markdown",
      "metadata": {
        "id": "pBPSsfbRL7FC"
      },
      "source": [
        "Tensors are the fundamental data structure in PyTorch. A tensor is an array: that is, a data structure that stores a collection of numbers that are accessible individually using an index, and that can be indexed with multiple indices."
      ]
    },
    {
      "cell_type": "markdown",
      "metadata": {
        "id": "-pnpfOCHL7FC"
      },
      "source": [
        "We need at least one training dataset and one validation dataset to be able to develop and train a model."
      ]
    },
    {
      "cell_type": "code",
      "metadata": {
        "colab": {
          "base_uri": "https://localhost:8080/"
        },
        "id": "5oWjYxOt_RzA",
        "outputId": "5305d089-1e93-47c1-b218-caedbb076bd6"
      },
      "source": [
        "transform = transforms.Compose( [                                  \n",
        "                                 transforms.Resize((150,150)),\n",
        "                                 transforms.RandomRotation(10),\n",
        "                                 transforms.RandomHorizontalFlip(), \n",
        "                                 transforms.ToTensor(),\n",
        "                                  ])\n",
        "\n",
        "def train_val_dataset(dataset, val_split=0.3):\n",
        "    train_idx, val_idx = train_test_split(list(range(len(dataset))), test_size=val_split)\n",
        "    datasets = {}\n",
        "    datasets['train'] = Subset(dataset, train_idx)\n",
        "    datasets['val'] = Subset(dataset, val_idx)\n",
        "    return datasets\n",
        "\n",
        "dataset = ImageFolder('/content/drive/MyDrive/all/alldata', transform=transform)\n",
        "print('length of dataset :',len(dataset))\n",
        "datasets = train_val_dataset(dataset)\n",
        "print('length of trainset :',len(datasets['train']))\n",
        "print('length of validation set :',len(datasets['val']))\n",
        "print(dataset)"
      ],
      "execution_count": 4,
      "outputs": [
        {
          "output_type": "stream",
          "text": [
            "length of dataset : 6400\n",
            "length of trainset : 4480\n",
            "length of validation set : 1920\n",
            "Dataset ImageFolder\n",
            "    Number of datapoints: 6400\n",
            "    Root location: /content/drive/MyDrive/all/alldata\n",
            "    StandardTransform\n",
            "Transform: Compose(\n",
            "               Resize(size=(150, 150), interpolation=PIL.Image.BILINEAR)\n",
            "               RandomRotation(degrees=[-10.0, 10.0], resample=False, expand=False)\n",
            "               RandomHorizontalFlip(p=0.5)\n",
            "               ToTensor()\n",
            "           )\n"
          ],
          "name": "stdout"
        }
      ]
    },
    {
      "cell_type": "markdown",
      "metadata": {
        "id": "1OYJ9qp1L7FD"
      },
      "source": [
        "To easily iterate over the data during training, we can create a data loader using the DataLoader class:"
      ]
    },
    {
      "cell_type": "code",
      "metadata": {
        "id": "HheZeL-A_w-g"
      },
      "source": [
        "dataloaders = {x:DataLoader(datasets[x], 16, shuffle=True, num_workers=4) for x in ['train','val']}"
      ],
      "execution_count": 5,
      "outputs": []
    },
    {
      "cell_type": "code",
      "metadata": {
        "colab": {
          "base_uri": "https://localhost:8080/"
        },
        "id": "6zURwmbZ_1x9",
        "outputId": "a8bf2996-037e-413c-ef25-7d6cdf5c3d7d"
      },
      "source": [
        "inputs, labels = next(iter(dataloaders['train']))\n",
        "print(inputs.shape, labels.shape)"
      ],
      "execution_count": 6,
      "outputs": [
        {
          "output_type": "stream",
          "text": [
            "torch.Size([16, 3, 150, 150]) torch.Size([16])\n"
          ],
          "name": "stdout"
        }
      ]
    },
    {
      "cell_type": "code",
      "metadata": {
        "id": "xcAGGDBPqlzX"
      },
      "source": [
        "class Net(nn.Module):\n",
        "    def __init__(self):\n",
        "        super().__init__()\n",
        "        self.conv1 = nn.Conv2d(3, 16, 3)\n",
        "        self.conv2 = nn.Conv2d(16, 32, 3)\n",
        "        self.conv3 = nn.Conv2d(32, 64, 3)\n",
        "        self.conv4 = nn.Conv2d(64, 128, 3)\n",
        "        self.conv5 = nn.Conv2d(128, 128, 3)\n",
        "        self.pool = nn.MaxPool2d(2)\n",
        "        self.flat = nn.Flatten()\n",
        "        self.fc1 = nn.Linear(21632, 1024)\n",
        "        self.fc2 = nn.Linear(1024, 128)\n",
        "        self.fc3 = nn.Linear(128, 4)\n",
        "        \n",
        "\n",
        "    def forward(self, x):\n",
        "        x = self.pool(F.relu(self.conv1(x)))\n",
        "        x = self.pool(F.relu(self.conv2(x)))\n",
        "        x = self.pool(F.relu(self.conv3(x)))\n",
        "        x = F.relu(self.conv4(x))\n",
        "        x = F.relu(self.conv5(x))\n",
        "        x = self.flat(x)\n",
        "        x = F.leaky_relu(self.fc1(x))\n",
        "        x = nn.Dropout(p=0.3)(x)\n",
        "        x = F.leaky_relu(self.fc2(x))\n",
        "        x = torch.softmax(self.fc3(x),dim=1)\n",
        "        return x"
      ],
      "execution_count": 7,
      "outputs": []
    },
    {
      "cell_type": "code",
      "metadata": {
        "id": "B0T1g638qgiV"
      },
      "source": [
        "def train(model, epoch, train_loader, optimizer, criterion) :   \n",
        "    model.train()\n",
        "    epoch_loss = correct = 0\n",
        "    for i, data in enumerate(dataloaders['train'], 0):\n",
        "        inputs, labels = data[0].to(device), data[1].to(device)    \n",
        "        optimizer.zero_grad()\n",
        "        outputs = model(inputs)\n",
        "        loss =  criterion(outputs, labels)\n",
        "        _, predicted = torch.max(outputs.data, 1)           \n",
        "        correct += (predicted == labels).sum().item()  \n",
        "        loss.backward()\n",
        "        optimizer.step() \n",
        "        epoch_loss += outputs.shape[0] * loss.item()\n",
        "    accuracy = correct / len(dataloaders['train'].dataset)\n",
        "    epoch_loss = epoch_loss / len(dataloaders['train'].dataset)\n",
        "    return epoch_loss, accuracy\n",
        "\n",
        "\n",
        "def test(model, epoch, test_loader, optimizer, criterion):\n",
        "    model.eval()\n",
        "    epoch_loss = correct = 0\n",
        "    with torch.no_grad():\n",
        "        for i, data in enumerate(dataloaders['val'], 0):\n",
        "            images, labels = data[0].to(device), data[1].to(device)\n",
        "            outputs = model(images)\n",
        "            loss =    criterion(outputs, labels)\n",
        "            _, predicted = torch.max(outputs.data, 1)           \n",
        "            correct += (predicted == labels).sum().item()  \n",
        "            epoch_loss += outputs.shape[0] * loss.item()\n",
        "    accuracy = correct / len(dataloaders['val'].dataset)\n",
        "    epoch_loss = epoch_loss / len(dataloaders['val'].dataset)\n",
        "    return epoch_loss, accuracy"
      ],
      "execution_count": 8,
      "outputs": []
    },
    {
      "cell_type": "markdown",
      "metadata": {
        "id": "K3WEM2w5L7FE"
      },
      "source": [
        "By default, PyTorch tensors are stored on the CPU. PyTorch tensors can be utilized on a GPU to speed up computing. This is the main advantage of tensors compared to NumPy arrays. To get this advantage, we need to move the tensors to the CUDA device. We can move tensors onto any device using the .to method:"
      ]
    },
    {
      "cell_type": "code",
      "metadata": {
        "colab": {
          "base_uri": "https://localhost:8080/"
        },
        "id": "ZtweJfafqgkv",
        "outputId": "0628dbe5-e53c-4c89-ee0e-b7a70d486127"
      },
      "source": [
        "device = torch.device(\"cuda:0\" if torch.cuda.is_available() else \"cpu\")\n",
        "model = Net()\n",
        "model.to(device)\n",
        "\n",
        "criterion = nn.CrossEntropyLoss()\n",
        "optimizer = optim.Adam(model.parameters(), lr=1e-4, weight_decay=1e-5)\n",
        "print('Device: ',device)\n",
        "model"
      ],
      "execution_count": 9,
      "outputs": [
        {
          "output_type": "stream",
          "text": [
            "Device:  cuda:0\n"
          ],
          "name": "stdout"
        },
        {
          "output_type": "execute_result",
          "data": {
            "text/plain": [
              "Net(\n",
              "  (conv1): Conv2d(3, 16, kernel_size=(3, 3), stride=(1, 1))\n",
              "  (conv2): Conv2d(16, 32, kernel_size=(3, 3), stride=(1, 1))\n",
              "  (conv3): Conv2d(32, 64, kernel_size=(3, 3), stride=(1, 1))\n",
              "  (conv4): Conv2d(64, 128, kernel_size=(3, 3), stride=(1, 1))\n",
              "  (conv5): Conv2d(128, 128, kernel_size=(3, 3), stride=(1, 1))\n",
              "  (pool): MaxPool2d(kernel_size=2, stride=2, padding=0, dilation=1, ceil_mode=False)\n",
              "  (flat): Flatten(start_dim=1, end_dim=-1)\n",
              "  (fc1): Linear(in_features=21632, out_features=1024, bias=True)\n",
              "  (fc2): Linear(in_features=1024, out_features=128, bias=True)\n",
              "  (fc3): Linear(in_features=128, out_features=4, bias=True)\n",
              ")"
            ]
          },
          "metadata": {
            "tags": []
          },
          "execution_count": 9
        }
      ]
    },
    {
      "cell_type": "code",
      "metadata": {
        "colab": {
          "base_uri": "https://localhost:8080/"
        },
        "id": "v9QJmDEJqgm4",
        "outputId": "c37ccaa7-8485-4982-ba6e-b22ca95eff3e"
      },
      "source": [
        "%%time\n",
        "import warnings\n",
        "warnings.simplefilter(action='ignore', category=FutureWarning)\n",
        "\n",
        "EPOCHS = 100\n",
        "BATCH_SIZE=16\n",
        "num_batches = math.ceil(len(datasets['train']) / BATCH_SIZE)\n",
        "\n",
        "print('Number of Training samples {}, Batch Size {}, Num Batch {}'.format(len(datasets['train']), BATCH_SIZE, num_batches ))\n",
        "\n",
        "history = defaultdict(list)\n",
        "\n",
        "for epoch in range( EPOCHS):  \n",
        "    timer_start()\n",
        "    print('[Epoch {} of {}]'.format(epoch +1, EPOCHS), end = ' ')\n",
        "    tr_loss, tr_acc = train(model, epoch, dataloaders['train'], optimizer, criterion)\n",
        "    val_loss, val_acc = test(model, epoch, dataloaders['val'], optimizer, criterion)  \n",
        "    timer_end()\n",
        "    print('tr_loss: {:0.4f},tr_acc {:0.4f}| val_loss {:0.4f}, val_acc {:0.4f}'.format(tr_loss, tr_acc , val_loss, val_acc))\n",
        "    history['epoch'].append(epoch+1)\n",
        "    history['tr_loss'].append(round(tr_loss,5))\n",
        "    history['tr_acc'].append(round(tr_acc,5))\n",
        "    history['val_loss'].append(round(val_loss,5))\n",
        "    history['val_acc'].append(round(val_acc,5))"
      ],
      "execution_count": 10,
      "outputs": [
        {
          "output_type": "stream",
          "text": [
            "Number of Training samples 4480, Batch Size 16, Num Batch 280\n",
            "[Epoch 1 of 100] Time elapsed 623.6s\n",
            "tr_loss: 1.2339,tr_acc 0.4938| val_loss 1.2171, val_acc 0.5083\n",
            "[Epoch 2 of 100] Time elapsed 20.3s\n",
            "tr_loss: 1.2161,tr_acc 0.4975| val_loss 1.1794, val_acc 0.5339\n",
            "[Epoch 3 of 100] Time elapsed 20.3s\n",
            "tr_loss: 1.1907,tr_acc 0.5290| val_loss 1.1699, val_acc 0.5620\n",
            "[Epoch 4 of 100] Time elapsed 20.1s\n",
            "tr_loss: 1.1847,tr_acc 0.5281| val_loss 1.1703, val_acc 0.5453\n",
            "[Epoch 5 of 100] Time elapsed 20.2s\n",
            "tr_loss: 1.1796,tr_acc 0.5382| val_loss 1.1641, val_acc 0.5563\n",
            "[Epoch 6 of 100] Time elapsed 20.2s\n",
            "tr_loss: 1.1761,tr_acc 0.5406| val_loss 1.1570, val_acc 0.5635\n",
            "[Epoch 7 of 100] Time elapsed 20.0s\n",
            "tr_loss: 1.1719,tr_acc 0.5422| val_loss 1.1611, val_acc 0.5641\n",
            "[Epoch 8 of 100] Time elapsed 20.0s\n",
            "tr_loss: 1.1637,tr_acc 0.5594| val_loss 1.1753, val_acc 0.5536\n",
            "[Epoch 9 of 100] Time elapsed 20.2s\n",
            "tr_loss: 1.1592,tr_acc 0.5665| val_loss 1.1365, val_acc 0.5932\n",
            "[Epoch 10 of 100] Time elapsed 19.9s\n",
            "tr_loss: 1.1502,tr_acc 0.5743| val_loss 1.1495, val_acc 0.5766\n",
            "[Epoch 11 of 100] Time elapsed 20.1s\n",
            "tr_loss: 1.1408,tr_acc 0.5904| val_loss 1.1225, val_acc 0.6052\n",
            "[Epoch 12 of 100] Time elapsed 20.1s\n",
            "tr_loss: 1.1339,tr_acc 0.5915| val_loss 1.1177, val_acc 0.6156\n",
            "[Epoch 13 of 100] Time elapsed 20.2s\n",
            "tr_loss: 1.1259,tr_acc 0.6060| val_loss 1.1433, val_acc 0.5948\n",
            "[Epoch 14 of 100] Time elapsed 20.1s\n",
            "tr_loss: 1.1141,tr_acc 0.6199| val_loss 1.1090, val_acc 0.6234\n",
            "[Epoch 15 of 100] Time elapsed 20.1s\n",
            "tr_loss: 1.1094,tr_acc 0.6261| val_loss 1.1031, val_acc 0.6198\n",
            "[Epoch 16 of 100] Time elapsed 20.0s\n",
            "tr_loss: 1.1018,tr_acc 0.6339| val_loss 1.1130, val_acc 0.6109\n",
            "[Epoch 17 of 100] Time elapsed 20.1s\n",
            "tr_loss: 1.0925,tr_acc 0.6397| val_loss 1.0922, val_acc 0.6411\n",
            "[Epoch 18 of 100] Time elapsed 20.1s\n",
            "tr_loss: 1.0903,tr_acc 0.6426| val_loss 1.0931, val_acc 0.6333\n",
            "[Epoch 19 of 100] Time elapsed 20.0s\n",
            "tr_loss: 1.0834,tr_acc 0.6536| val_loss 1.0833, val_acc 0.6474\n",
            "[Epoch 20 of 100] Time elapsed 20.1s\n",
            "tr_loss: 1.0791,tr_acc 0.6583| val_loss 1.0780, val_acc 0.6557\n",
            "[Epoch 21 of 100] Time elapsed 20.2s\n",
            "tr_loss: 1.0740,tr_acc 0.6614| val_loss 1.0744, val_acc 0.6562\n",
            "[Epoch 22 of 100] Time elapsed 20.1s\n",
            "tr_loss: 1.0672,tr_acc 0.6687| val_loss 1.0720, val_acc 0.6573\n",
            "[Epoch 23 of 100] Time elapsed 20.1s\n",
            "tr_loss: 1.0649,tr_acc 0.6750| val_loss 1.0781, val_acc 0.6547\n",
            "[Epoch 24 of 100] Time elapsed 20.1s\n",
            "tr_loss: 1.0639,tr_acc 0.6775| val_loss 1.0795, val_acc 0.6557\n",
            "[Epoch 25 of 100] Time elapsed 20.4s\n",
            "tr_loss: 1.0604,tr_acc 0.6766| val_loss 1.0703, val_acc 0.6646\n",
            "[Epoch 26 of 100] Time elapsed 20.4s\n",
            "tr_loss: 1.0430,tr_acc 0.6960| val_loss 1.0712, val_acc 0.6620\n",
            "[Epoch 27 of 100] Time elapsed 20.6s\n",
            "tr_loss: 1.0439,tr_acc 0.6931| val_loss 1.0545, val_acc 0.6823\n",
            "[Epoch 28 of 100] Time elapsed 20.4s\n",
            "tr_loss: 1.0404,tr_acc 0.6958| val_loss 1.0583, val_acc 0.6854\n",
            "[Epoch 29 of 100] Time elapsed 20.1s\n",
            "tr_loss: 1.0364,tr_acc 0.7074| val_loss 1.0337, val_acc 0.7068\n",
            "[Epoch 30 of 100] Time elapsed 20.0s\n",
            "tr_loss: 1.0281,tr_acc 0.7098| val_loss 1.0372, val_acc 0.6995\n",
            "[Epoch 31 of 100] Time elapsed 19.8s\n",
            "tr_loss: 1.0191,tr_acc 0.7234| val_loss 1.0601, val_acc 0.6740\n",
            "[Epoch 32 of 100] Time elapsed 20.0s\n",
            "tr_loss: 1.0221,tr_acc 0.7163| val_loss 1.0473, val_acc 0.6901\n",
            "[Epoch 33 of 100] Time elapsed 20.1s\n",
            "tr_loss: 1.0149,tr_acc 0.7250| val_loss 1.0319, val_acc 0.7094\n",
            "[Epoch 34 of 100] Time elapsed 20.1s\n",
            "tr_loss: 1.0051,tr_acc 0.7357| val_loss 1.0321, val_acc 0.7063\n",
            "[Epoch 35 of 100] Time elapsed 20.1s\n",
            "tr_loss: 1.0044,tr_acc 0.7355| val_loss 1.0263, val_acc 0.7109\n",
            "[Epoch 36 of 100] Time elapsed 20.2s\n",
            "tr_loss: 0.9993,tr_acc 0.7431| val_loss 1.0191, val_acc 0.7182\n",
            "[Epoch 37 of 100] Time elapsed 20.1s\n",
            "tr_loss: 0.9928,tr_acc 0.7493| val_loss 1.0312, val_acc 0.7052\n",
            "[Epoch 38 of 100] Time elapsed 20.0s\n",
            "tr_loss: 0.9844,tr_acc 0.7574| val_loss 1.0159, val_acc 0.7266\n",
            "[Epoch 39 of 100] Time elapsed 19.9s\n",
            "tr_loss: 0.9872,tr_acc 0.7536| val_loss 1.0077, val_acc 0.7344\n",
            "[Epoch 40 of 100] Time elapsed 20.0s\n",
            "tr_loss: 0.9743,tr_acc 0.7712| val_loss 1.0146, val_acc 0.7276\n",
            "[Epoch 41 of 100] Time elapsed 20.3s\n",
            "tr_loss: 0.9708,tr_acc 0.7721| val_loss 1.0119, val_acc 0.7312\n",
            "[Epoch 42 of 100] Time elapsed 20.3s\n",
            "tr_loss: 0.9698,tr_acc 0.7719| val_loss 1.0356, val_acc 0.7016\n",
            "[Epoch 43 of 100] Time elapsed 20.2s\n",
            "tr_loss: 0.9760,tr_acc 0.7658| val_loss 1.0082, val_acc 0.7297\n",
            "[Epoch 44 of 100] Time elapsed 20.3s\n",
            "tr_loss: 0.9699,tr_acc 0.7714| val_loss 1.0249, val_acc 0.7167\n",
            "[Epoch 45 of 100] Time elapsed 20.2s\n",
            "tr_loss: 0.9652,tr_acc 0.7770| val_loss 0.9945, val_acc 0.7464\n",
            "[Epoch 46 of 100] Time elapsed 20.2s\n",
            "tr_loss: 0.9566,tr_acc 0.7862| val_loss 0.9903, val_acc 0.7521\n",
            "[Epoch 47 of 100] Time elapsed 20.2s\n",
            "tr_loss: 0.9484,tr_acc 0.7940| val_loss 1.0004, val_acc 0.7359\n",
            "[Epoch 48 of 100] Time elapsed 20.0s\n",
            "tr_loss: 0.9514,tr_acc 0.7904| val_loss 0.9837, val_acc 0.7552\n",
            "[Epoch 49 of 100] Time elapsed 20.0s\n",
            "tr_loss: 0.9423,tr_acc 0.8013| val_loss 0.9895, val_acc 0.7516\n",
            "[Epoch 50 of 100] Time elapsed 20.3s\n",
            "tr_loss: 0.9449,tr_acc 0.7996| val_loss 0.9835, val_acc 0.7557\n",
            "[Epoch 51 of 100] Time elapsed 20.1s\n",
            "tr_loss: 0.9368,tr_acc 0.8047| val_loss 0.9814, val_acc 0.7589\n",
            "[Epoch 52 of 100] Time elapsed 20.2s\n",
            "tr_loss: 0.9347,tr_acc 0.8083| val_loss 0.9729, val_acc 0.7615\n",
            "[Epoch 53 of 100] Time elapsed 20.3s\n",
            "tr_loss: 0.9304,tr_acc 0.8116| val_loss 0.9726, val_acc 0.7693\n",
            "[Epoch 54 of 100] Time elapsed 19.9s\n",
            "tr_loss: 0.9309,tr_acc 0.8123| val_loss 0.9955, val_acc 0.7464\n",
            "[Epoch 55 of 100] Time elapsed 20.0s\n",
            "tr_loss: 0.9213,tr_acc 0.8221| val_loss 0.9761, val_acc 0.7651\n",
            "[Epoch 56 of 100] Time elapsed 20.1s\n",
            "tr_loss: 0.9196,tr_acc 0.8241| val_loss 0.9691, val_acc 0.7740\n",
            "[Epoch 57 of 100] Time elapsed 20.1s\n",
            "tr_loss: 0.9119,tr_acc 0.8315| val_loss 0.9828, val_acc 0.7573\n",
            "[Epoch 58 of 100] Time elapsed 20.0s\n",
            "tr_loss: 0.9270,tr_acc 0.8156| val_loss 0.9609, val_acc 0.7781\n",
            "[Epoch 59 of 100] Time elapsed 20.1s\n",
            "tr_loss: 0.9113,tr_acc 0.8319| val_loss 0.9628, val_acc 0.7734\n",
            "[Epoch 60 of 100] Time elapsed 20.0s\n",
            "tr_loss: 0.9073,tr_acc 0.8337| val_loss 0.9541, val_acc 0.7865\n",
            "[Epoch 61 of 100] Time elapsed 20.0s\n",
            "tr_loss: 0.9112,tr_acc 0.8308| val_loss 0.9519, val_acc 0.7948\n",
            "[Epoch 62 of 100] Time elapsed 20.0s\n",
            "tr_loss: 0.9073,tr_acc 0.8355| val_loss 0.9472, val_acc 0.7927\n",
            "[Epoch 63 of 100] Time elapsed 20.1s\n",
            "tr_loss: 0.9018,tr_acc 0.8406| val_loss 0.9497, val_acc 0.7922\n",
            "[Epoch 64 of 100] Time elapsed 20.0s\n",
            "tr_loss: 0.9013,tr_acc 0.8422| val_loss 0.9626, val_acc 0.7802\n",
            "[Epoch 65 of 100] Time elapsed 20.0s\n",
            "tr_loss: 0.8950,tr_acc 0.8455| val_loss 0.9515, val_acc 0.7901\n",
            "[Epoch 66 of 100] Time elapsed 20.0s\n",
            "tr_loss: 0.8951,tr_acc 0.8473| val_loss 0.9418, val_acc 0.7979\n",
            "[Epoch 67 of 100] Time elapsed 20.0s\n",
            "tr_loss: 0.8884,tr_acc 0.8547| val_loss 0.9311, val_acc 0.8109\n",
            "[Epoch 68 of 100] Time elapsed 20.1s\n",
            "tr_loss: 0.8920,tr_acc 0.8509| val_loss 0.9292, val_acc 0.8130\n",
            "[Epoch 69 of 100] Time elapsed 20.2s\n",
            "tr_loss: 0.8844,tr_acc 0.8592| val_loss 0.9325, val_acc 0.8083\n",
            "[Epoch 70 of 100] Time elapsed 20.3s\n",
            "tr_loss: 0.8811,tr_acc 0.8636| val_loss 0.9351, val_acc 0.8063\n",
            "[Epoch 71 of 100] Time elapsed 20.0s\n",
            "tr_loss: 0.8810,tr_acc 0.8650| val_loss 0.9241, val_acc 0.8156\n",
            "[Epoch 72 of 100] Time elapsed 20.0s\n",
            "tr_loss: 0.8872,tr_acc 0.8551| val_loss 0.9404, val_acc 0.8005\n",
            "[Epoch 73 of 100] Time elapsed 19.8s\n",
            "tr_loss: 0.8788,tr_acc 0.8665| val_loss 0.9224, val_acc 0.8182\n",
            "[Epoch 74 of 100] Time elapsed 20.2s\n",
            "tr_loss: 0.8756,tr_acc 0.8676| val_loss 0.9337, val_acc 0.8078\n",
            "[Epoch 75 of 100] Time elapsed 20.1s\n",
            "tr_loss: 0.8730,tr_acc 0.8723| val_loss 0.9244, val_acc 0.8182\n",
            "[Epoch 76 of 100] Time elapsed 20.1s\n",
            "tr_loss: 0.8736,tr_acc 0.8696| val_loss 0.9243, val_acc 0.8135\n",
            "[Epoch 77 of 100] Time elapsed 20.2s\n",
            "tr_loss: 0.8756,tr_acc 0.8663| val_loss 0.9192, val_acc 0.8245\n",
            "[Epoch 78 of 100] Time elapsed 20.0s\n",
            "tr_loss: 0.8699,tr_acc 0.8734| val_loss 0.9272, val_acc 0.8130\n",
            "[Epoch 79 of 100] Time elapsed 19.8s\n",
            "tr_loss: 0.8655,tr_acc 0.8786| val_loss 0.9306, val_acc 0.8089\n",
            "[Epoch 80 of 100] Time elapsed 20.0s\n",
            "tr_loss: 0.8679,tr_acc 0.8750| val_loss 0.9050, val_acc 0.8370\n",
            "[Epoch 81 of 100] Time elapsed 20.3s\n",
            "tr_loss: 0.8627,tr_acc 0.8801| val_loss 0.9315, val_acc 0.8078\n",
            "[Epoch 82 of 100] Time elapsed 20.0s\n",
            "tr_loss: 0.8623,tr_acc 0.8817| val_loss 0.9420, val_acc 0.7974\n",
            "[Epoch 83 of 100] Time elapsed 20.2s\n",
            "tr_loss: 0.8600,tr_acc 0.8826| val_loss 0.9226, val_acc 0.8167\n",
            "[Epoch 84 of 100] Time elapsed 20.0s\n",
            "tr_loss: 0.8662,tr_acc 0.8775| val_loss 0.9064, val_acc 0.8380\n",
            "[Epoch 85 of 100] Time elapsed 20.0s\n",
            "tr_loss: 0.8588,tr_acc 0.8853| val_loss 0.9514, val_acc 0.7901\n",
            "[Epoch 86 of 100] Time elapsed 20.1s\n",
            "tr_loss: 0.8577,tr_acc 0.8873| val_loss 0.9173, val_acc 0.8214\n",
            "[Epoch 87 of 100] Time elapsed 19.9s\n",
            "tr_loss: 0.8571,tr_acc 0.8853| val_loss 0.9002, val_acc 0.8438\n",
            "[Epoch 88 of 100] Time elapsed 20.1s\n",
            "tr_loss: 0.8536,tr_acc 0.8900| val_loss 0.9108, val_acc 0.8292\n",
            "[Epoch 89 of 100] Time elapsed 19.9s\n",
            "tr_loss: 0.8460,tr_acc 0.8978| val_loss 0.8959, val_acc 0.8469\n",
            "[Epoch 90 of 100] Time elapsed 20.0s\n",
            "tr_loss: 0.8540,tr_acc 0.8886| val_loss 0.9107, val_acc 0.8292\n",
            "[Epoch 91 of 100] Time elapsed 20.0s\n",
            "tr_loss: 0.8483,tr_acc 0.8951| val_loss 0.8905, val_acc 0.8516\n",
            "[Epoch 92 of 100] Time elapsed 19.8s\n",
            "tr_loss: 0.8474,tr_acc 0.8962| val_loss 0.8931, val_acc 0.8490\n",
            "[Epoch 93 of 100] Time elapsed 20.0s\n",
            "tr_loss: 0.8495,tr_acc 0.8942| val_loss 0.8923, val_acc 0.8505\n",
            "[Epoch 94 of 100] Time elapsed 20.0s\n",
            "tr_loss: 0.8546,tr_acc 0.8877| val_loss 0.8934, val_acc 0.8474\n",
            "[Epoch 95 of 100] Time elapsed 20.0s\n",
            "tr_loss: 0.8550,tr_acc 0.8888| val_loss 0.9025, val_acc 0.8391\n",
            "[Epoch 96 of 100] Time elapsed 20.0s\n",
            "tr_loss: 0.8474,tr_acc 0.8962| val_loss 0.9170, val_acc 0.8271\n",
            "[Epoch 97 of 100] Time elapsed 20.0s\n",
            "tr_loss: 0.8461,tr_acc 0.8969| val_loss 0.8899, val_acc 0.8500\n",
            "[Epoch 98 of 100] Time elapsed 20.0s\n",
            "tr_loss: 0.8436,tr_acc 0.8996| val_loss 0.8894, val_acc 0.8552\n",
            "[Epoch 99 of 100] Time elapsed 19.9s\n",
            "tr_loss: 0.8420,tr_acc 0.9016| val_loss 0.9045, val_acc 0.8370\n",
            "[Epoch 100 of 100] Time elapsed 19.7s\n",
            "tr_loss: 0.8422,tr_acc 0.9011| val_loss 0.9011, val_acc 0.8380\n",
            "CPU times: user 13min 33s, sys: 4min 54s, total: 18min 27s\n",
            "Wall time: 43min 31s\n"
          ],
          "name": "stdout"
        }
      ]
    },
    {
      "cell_type": "code",
      "metadata": {
        "colab": {
          "base_uri": "https://localhost:8080/",
          "height": 203
        },
        "id": "RAGOJobg2q0p",
        "outputId": "a1f3e850-88d9-4c31-a83c-5f64a4a51762"
      },
      "source": [
        "plot_results(history)\n",
        "best_epoch = get_best_epcoh(history)"
      ],
      "execution_count": 11,
      "outputs": [
        {
          "output_type": "display_data",
          "data": {
            "image/png": "[encoded data removed]",
            "text/plain": [
              "<Figure size 1728x432 with 2 Axes>"
            ]
          },
          "metadata": {
            "tags": [],
            "needs_background": "light"
          }
        },
        {
          "output_type": "stream",
          "text": [
            "Best Validation Accuracy Score 0.85521, is for epoch 98\n"
          ],
          "name": "stdout"
        }
      ]
    }
  ]
}